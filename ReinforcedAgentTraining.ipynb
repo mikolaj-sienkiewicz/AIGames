{
 "cells": [
  {
   "cell_type": "markdown",
   "metadata": {},
   "source": [
    "## Imports"
   ]
  },
  {
   "cell_type": "code",
   "execution_count": 9,
   "metadata": {},
   "outputs": [],
   "source": [
    "import numpy as np\n",
    "import time\n",
    "import random\n",
    "from tqdm import tqdm\n",
    "import os\n",
    "from PIL import Image\n",
    "import cv2\n",
    "import torch as T\n",
    "import torch.nn as nn\n",
    "import torch.nn.functional as F\n",
    "import torch.optim as optim\n",
    "import numpy as np\n",
    "from gym import spaces\n",
    "import pygame\n",
    "\n",
    "import os,sys\n",
    "\n",
    "sys.path.append(os.path.join(sys.path[0], \"..\"))\n",
    "\n",
    "import matplotlib.pylab as plt\n",
    "from IPython import display\n",
    "%matplotlib inline\n",
    "\n",
    "from environment.GridEnv import GridWorld\n",
    "from utils import run_agent_in_env\n",
    "\n",
    "from stable_baselines3 import DQN, PPO, A2C\n"
   ]
  },
  {
   "cell_type": "markdown",
   "metadata": {},
   "source": [
    "### Spawning windows with WSL setup\n",
    "\n",
    "To be able to deploy window with pygame in WSL follow this [tutorial](https://medium.com/javarevisited/using-wsl-2-with-x-server-linux-on-windows-a372263533c3)\n",
    "\n",
    "##### TL;DR\n",
    "\n",
    "- Install x11 server\n",
    "- In WSL setup Display config: `DISPLAY=$(cat /etc/resolv.conf | grep nameserver | awk '{print $2}'):0`\n",
    "- Run x11 server with command like: `C:\\Program Files\\VcXsrv\\vcxsrv.exe\" :0 -ac -terminate -lesspointer -multiwindow -clipboard -wgl -dpi auto`\n"
   ]
  },
  {
   "cell_type": "markdown",
   "metadata": {},
   "source": [
    "## Training"
   ]
  },
  {
   "cell_type": "markdown",
   "metadata": {},
   "source": [
    "### Initial training"
   ]
  },
  {
   "cell_type": "code",
   "execution_count": null,
   "metadata": {},
   "outputs": [],
   "source": [
    "GRID_SIDE_LENGTH=4\n",
    "\n",
    "env = GridWorld(GRID_SIDE_LENGTH)\n",
    "env.reset()\n",
    "model = A2C('MlpPolicy', env, verbose=1) #Also tried with DQN and PPO\n",
    "\n",
    "models_dir = f\"models/{int(time.time())}/\"\n",
    "logdir = f\"logs/{int(time.time())}/\"\n",
    "\n",
    "TIMESTEPS = 200000\n",
    "iters = 1\n",
    "while True:\n",
    "    iters += 1\n",
    "    model.learn(total_timesteps=TIMESTEPS, reset_num_timesteps=False, tb_log_name=f\"PPO\")\n",
    "    model.save(f\"{models_dir}/2_{TIMESTEPS*iters}\")"
   ]
  },
  {
   "cell_type": "markdown",
   "metadata": {},
   "source": [
    "### Re-training (bigger grids)"
   ]
  },
  {
   "cell_type": "code",
   "execution_count": null,
   "metadata": {},
   "outputs": [],
   "source": [
    "model = A2C.load(f\"models/1650141014/2_750000.zip\")\n",
    "\n",
    "GRID_SIDE_LENGTH=12 #Previously 8 and 10\n",
    "\n",
    "env = GridWorld(GRID_SIDE_LENGTH)\n",
    "env.reset()\n",
    "\n",
    "model.set_env(env)\n",
    "\n",
    "models_dir = f\"models/{int(time.time())}/\"\n",
    "logdir = f\"logs/{int(time.time())}/\"\n",
    "\n",
    "TIMESTEPS = 200000\n",
    "iters = 1\n",
    "while True:\n",
    "    iters += 1\n",
    "    model.learn(total_timesteps=TIMESTEPS, reset_num_timesteps=False, tb_log_name=f\"./PPO\")\n",
    "    model.save(f\"{models_dir}/2_{TIMESTEPS*iters}\")"
   ]
  },
  {
   "cell_type": "markdown",
   "metadata": {},
   "source": [
    "### Test the agent - run rendered simulation"
   ]
  },
  {
   "cell_type": "code",
   "execution_count": null,
   "metadata": {},
   "outputs": [],
   "source": [
    "GRID_SIDE_LENGTH=12\n",
    "\n",
    "env = GridWorld(GRID_SIDE_LENGTH)\n",
    "env.reset()\n",
    "\n",
    "model= A2C.load(f\"models/1650180249/2_9200000.zip\")\n",
    "rewards = run_agent_in_env(env, model, 5, learning=False, plot=False, render=True, plot_interval=20)"
   ]
  },
  {
   "cell_type": "markdown",
   "metadata": {},
   "source": [
    "### Extras/utils"
   ]
  },
  {
   "cell_type": "code",
   "execution_count": null,
   "metadata": {},
   "outputs": [],
   "source": [
    "# SAVE/ LOAD MODEL TO / FROM FILE\n",
    "T.save(agent.q_eval, f\"./model_{GRID_SIDE_LENGTH}_{EPISODES}\")\n",
    "model=T.load(f\"./model_{GRID_SIDE_LENGTH}_1000\")"
   ]
  },
  {
   "cell_type": "code",
   "execution_count": null,
   "metadata": {},
   "outputs": [],
   "source": [
    "# Remove hangin pygame window\n",
    "pygame.quit()"
   ]
  }
 ],
 "metadata": {
  "kernelspec": {
   "display_name": "Python 3",
   "language": "python",
   "name": "python3"
  },
  "language_info": {
   "codemirror_mode": {
    "name": "ipython",
    "version": 3
   },
   "file_extension": ".py",
   "mimetype": "text/x-python",
   "name": "python",
   "nbconvert_exporter": "python",
   "pygments_lexer": "ipython3",
   "version": "3.8.10"
  }
 },
 "nbformat": 4,
 "nbformat_minor": 4
}
