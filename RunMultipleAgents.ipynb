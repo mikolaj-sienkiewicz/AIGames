{
 "cells": [
  {
   "cell_type": "code",
   "execution_count": 1,
   "metadata": {},
   "outputs": [
    {
     "name": "stdout",
     "output_type": "stream",
     "text": [
      "pygame 2.1.2 (SDL 2.0.16, Python 3.8.10)\n",
      "Hello from the pygame community. https://www.pygame.org/contribute.html\n"
     ]
    }
   ],
   "source": [
    "from GridEnvMultiple import GridWorldMultiple"
   ]
  },
  {
   "cell_type": "code",
   "execution_count": 2,
   "metadata": {},
   "outputs": [
    {
     "name": "stdout",
     "output_type": "stream",
     "text": [
      "FOLLOWING BASES INITIALIZED: COLORS, {0: [124, 154, 184], 1: [100, 188, 201]}  POSITIONS, [(4, 2), (9, 0)]\n",
      "FOLLOWING BASES INITIALIZED: COLORS, {0: [242, 110, 135], 1: [129, 219, 224]}  POSITIONS, [(2, 8), (5, 9)]\n",
      "FOLLOWING BASES INITIALIZED: COLORS, {0: [128, 222, 225], 1: [204, 133, 113]}  POSITIONS, [(11, 4), (4, 11)]\n"
     ]
    }
   ],
   "source": [
    "simulator=GridWorldMultiple(12,reinforcedAgents=2)"
   ]
  },
  {
   "cell_type": "code",
   "execution_count": null,
   "metadata": {},
   "outputs": [],
   "source": []
  }
 ],
 "metadata": {
  "kernelspec": {
   "display_name": "Python 3",
   "language": "python",
   "name": "python3"
  },
  "language_info": {
   "codemirror_mode": {
    "name": "ipython",
    "version": 3
   },
   "file_extension": ".py",
   "mimetype": "text/x-python",
   "name": "python",
   "nbconvert_exporter": "python",
   "pygments_lexer": "ipython3",
   "version": "3.8.10"
  }
 },
 "nbformat": 4,
 "nbformat_minor": 4
}
